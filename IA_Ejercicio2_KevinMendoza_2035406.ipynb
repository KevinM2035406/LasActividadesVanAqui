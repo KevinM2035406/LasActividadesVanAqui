{
  "nbformat": 4,
  "nbformat_minor": 0,
  "metadata": {
    "colab": {
      "name": "IA_Ejercicio2_KevinMendoza_2035406",
      "provenance": [],
      "collapsed_sections": [],
      "authorship_tag": "ABX9TyN63oSOHdjoXRPVtTeYfX+w",
      "include_colab_link": true
    },
    "kernelspec": {
      "name": "python3",
      "display_name": "Python 3"
    },
    "language_info": {
      "name": "python"
    }
  },
  "cells": [
    {
      "cell_type": "markdown",
      "metadata": {
        "id": "view-in-github",
        "colab_type": "text"
      },
      "source": [
        "<a href=\"https://colab.research.google.com/github/KevinM2035406/LasActividadesVanAqui/blob/main/IA_Ejercicio2_KevinMendoza_2035406.ipynb\" target=\"_parent\"><img src=\"https://colab.research.google.com/assets/colab-badge.svg\" alt=\"Open In Colab\"/></a>"
      ]
    },
    {
      "cell_type": "markdown",
      "source": [
        "###Problema 1"
      ],
      "metadata": {
        "id": "Ov72ZjoprABX"
      }
    },
    {
      "cell_type": "code",
      "source": [
        "#A2: Ejercicios basicos de python\n",
        "#Kevin Sergio Mendoza Serrato 2035406 N1 Jueves\n",
        "x = \"Hola \"\n",
        "y = \"Kevin \" #escribe tu nombre\n",
        "c = \"bienvenido\"\n",
        "z = x + y + c\n",
        "print(z)\n",
        "if \"Ana\" in y :\n",
        "  print(\"No vale\")\n",
        "if \"Juan\" in y :\n",
        "  print(\"No vale\")\n",
        "if \"Pedro\" in y :\n",
        "  print(\"No vale\")"
      ],
      "metadata": {
        "colab": {
          "base_uri": "https://localhost:8080/"
        },
        "id": "PWZiDt2yq-fk",
        "outputId": "51e50cba-2aa9-483e-f693-d5ea8cd15422"
      },
      "execution_count": 41,
      "outputs": [
        {
          "output_type": "stream",
          "name": "stdout",
          "text": [
            "Hola Kevin bienvenido\n"
          ]
        }
      ]
    },
    {
      "cell_type": "markdown",
      "source": [
        "## Problema 2"
      ],
      "metadata": {
        "id": "skIEAKNH10SK"
      }
    },
    {
      "cell_type": "code",
      "source": [
        "for item in reversed(list):\n",
        "  print(item)\n",
        "lista = [5, 6, 7, 8, 9]\n",
        "n = len(list)\n",
        "for i in len (list):\n",
        "  print(list[n])\n",
        "  n = n - 1\n",
        "  "
      ],
      "metadata": {
        "colab": {
          "base_uri": "https://localhost:8080/",
          "height": 391
        },
        "id": "9-2pmKPG2eda",
        "outputId": "e018987a-7d7d-458c-9ada-abb937b08c3c"
      },
      "execution_count": 86,
      "outputs": [
        {
          "output_type": "stream",
          "name": "stdout",
          "text": [
            "rectangulo\n",
            "un \n",
            "es \n",
            "esto \n",
            "mundo \n",
            "el \n",
            "todo \n",
            "a \n",
            "Hola \n"
          ]
        },
        {
          "output_type": "error",
          "ename": "TypeError",
          "evalue": "ignored",
          "traceback": [
            "\u001b[0;31m---------------------------------------------------------------------------\u001b[0m",
            "\u001b[0;31mTypeError\u001b[0m                                 Traceback (most recent call last)",
            "\u001b[0;32m<ipython-input-86-ca5d97fb43db>\u001b[0m in \u001b[0;36m<module>\u001b[0;34m()\u001b[0m\n\u001b[1;32m      3\u001b[0m \u001b[0mlista\u001b[0m \u001b[0;34m=\u001b[0m \u001b[0;34m[\u001b[0m\u001b[0;36m5\u001b[0m\u001b[0;34m,\u001b[0m \u001b[0;36m6\u001b[0m\u001b[0;34m,\u001b[0m \u001b[0;36m7\u001b[0m\u001b[0;34m,\u001b[0m \u001b[0;36m8\u001b[0m\u001b[0;34m,\u001b[0m \u001b[0;36m9\u001b[0m\u001b[0;34m]\u001b[0m\u001b[0;34m\u001b[0m\u001b[0;34m\u001b[0m\u001b[0m\n\u001b[1;32m      4\u001b[0m \u001b[0mn\u001b[0m \u001b[0;34m=\u001b[0m \u001b[0mlen\u001b[0m\u001b[0;34m(\u001b[0m\u001b[0mlist\u001b[0m\u001b[0;34m)\u001b[0m\u001b[0;34m\u001b[0m\u001b[0;34m\u001b[0m\u001b[0m\n\u001b[0;32m----> 5\u001b[0;31m \u001b[0;32mfor\u001b[0m \u001b[0mi\u001b[0m \u001b[0;32min\u001b[0m \u001b[0mlen\u001b[0m \u001b[0;34m(\u001b[0m\u001b[0mlist\u001b[0m\u001b[0;34m)\u001b[0m\u001b[0;34m:\u001b[0m\u001b[0;34m\u001b[0m\u001b[0;34m\u001b[0m\u001b[0m\n\u001b[0m\u001b[1;32m      6\u001b[0m   \u001b[0mprint\u001b[0m\u001b[0;34m(\u001b[0m\u001b[0mlist\u001b[0m\u001b[0;34m[\u001b[0m\u001b[0mn\u001b[0m\u001b[0;34m]\u001b[0m\u001b[0;34m)\u001b[0m\u001b[0;34m\u001b[0m\u001b[0;34m\u001b[0m\u001b[0m\n\u001b[1;32m      7\u001b[0m   \u001b[0mn\u001b[0m \u001b[0;34m=\u001b[0m \u001b[0mn\u001b[0m \u001b[0;34m-\u001b[0m \u001b[0;36m1\u001b[0m\u001b[0;34m\u001b[0m\u001b[0;34m\u001b[0m\u001b[0m\n",
            "\u001b[0;31mTypeError\u001b[0m: 'int' object is not iterable"
          ]
        }
      ]
    },
    {
      "cell_type": "markdown",
      "source": [
        "problema 3"
      ],
      "metadata": {
        "id": "t9-uotX6LysW"
      }
    },
    {
      "cell_type": "code",
      "source": [
        "list = [\"Hola \", \"a \", \"todo \", \"el \",\"mundo \", \"esto \", \"es \", \"un \", \"rectangulo\" ]\n",
        "def marco() :\n",
        "  print(\"*********\")\n",
        "marco()\n",
        "for x in list:\n",
        "  print(\"* \" + x + \" *\")\n",
        "  marco()"
      ],
      "metadata": {
        "colab": {
          "base_uri": "https://localhost:8080/"
        },
        "id": "-5u7WHC0L0l5",
        "outputId": "a02d6ae7-6900-4601-c970-df2abdc4fde6"
      },
      "execution_count": 85,
      "outputs": [
        {
          "output_type": "stream",
          "name": "stdout",
          "text": [
            "*********\n",
            "* Hola  *\n",
            "*********\n",
            "* a  *\n",
            "*********\n",
            "* todo  *\n",
            "*********\n",
            "* el  *\n",
            "*********\n",
            "* mundo  *\n",
            "*********\n",
            "* esto  *\n",
            "*********\n",
            "* es  *\n",
            "*********\n",
            "* un  *\n",
            "*********\n",
            "* rectangulo *\n",
            "*********\n"
          ]
        }
      ]
    }
  ]
}